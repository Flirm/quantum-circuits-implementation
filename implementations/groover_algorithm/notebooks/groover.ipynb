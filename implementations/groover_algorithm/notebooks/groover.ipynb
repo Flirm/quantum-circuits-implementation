{
 "cells": [
  {
   "cell_type": "code",
   "execution_count": 1,
   "id": "c6bf1677",
   "metadata": {},
   "outputs": [],
   "source": [
    "import qiskit"
   ]
  },
  {
   "cell_type": "code",
   "execution_count": null,
   "id": "8d32e1e2",
   "metadata": {},
   "outputs": [
    {
     "name": "stdout",
     "output_type": "stream",
     "text": [
      "(5, [[1, 2, 3], [2, -4, -5], [3, 4, 5]])\n"
     ]
    }
   ],
   "source": [
    "def get_sat() -> tuple[int, list[list[int]]]:\n",
    "    \"\"\"\n",
    "    To enter the clause type all the literals present in the clause separated by comma,\n",
    "    if the literal is negated enter a `-` sign in front of it.\n",
    "    ex: 1,3,-4 is the clause (X1 V X3 V ¬X4)\n",
    "    \"\"\"\n",
    "    x = int(input(\"Enter the ammount of literals: \"))\n",
    "    cnf = []\n",
    "    while True:\n",
    "        clause = list(map(int, input(\"Enter a clause\").split(\",\")))\n",
    "        if clause[0] == 0:\n",
    "            break\n",
    "        else:\n",
    "            cnf.append(clause)\n",
    "    return (x, cnf)\n",
    "\n",
    "print(get_sat())"
   ]
  },
  {
   "cell_type": "code",
   "execution_count": null,
   "id": "911e046d",
   "metadata": {},
   "outputs": [],
   "source": []
  }
 ],
 "metadata": {
  "kernelspec": {
   "display_name": "cwq",
   "language": "python",
   "name": "python3"
  },
  "language_info": {
   "codemirror_mode": {
    "name": "ipython",
    "version": 3
   },
   "file_extension": ".py",
   "mimetype": "text/x-python",
   "name": "python",
   "nbconvert_exporter": "python",
   "pygments_lexer": "ipython3",
   "version": "3.13.2"
  }
 },
 "nbformat": 4,
 "nbformat_minor": 5
}
