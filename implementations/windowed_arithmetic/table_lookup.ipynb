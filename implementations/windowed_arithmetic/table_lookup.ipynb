{
 "cells": [
  {
   "cell_type": "code",
   "execution_count": 18,
   "id": "c069a786",
   "metadata": {},
   "outputs": [],
   "source": [
    "from qiskit import *\n",
    "from math import log2, ceil\n",
    "from qiskit.circuit.library import XGate, UnitaryGate"
   ]
  },
  {
   "cell_type": "code",
   "execution_count": 7,
   "id": "8630724c",
   "metadata": {},
   "outputs": [
    {
     "name": "stdout",
     "output_type": "stream",
     "text": [
      "['0100', '0010', '0011', '0001', '0110', '0101', '1000', '0111']\n"
     ]
    }
   ],
   "source": [
    "def encode_table(l: list[int], size: int) -> list[str]:\n",
    "    \"\"\"\n",
    "    l: list to be encoded\n",
    "    size: how many bits elements should have in it's encoding\n",
    "    \"\"\"\n",
    "    encoded_l = []\n",
    "    for num in l:\n",
    "        encoded_l.append((bin(num)[2:]).rjust(size,\"0\"))\n",
    "    return encoded_l\n",
    "\n",
    "l = [4,2,3,1,6,5,8,7]\n",
    "print(encode_table(l, 4))"
   ]
  },
  {
   "cell_type": "code",
   "execution_count": 17,
   "id": "16985cc0",
   "metadata": {},
   "outputs": [
    {
     "name": "stdout",
     "output_type": "stream",
     "text": [
      "['0000', '0001', '0010', '0011', '0100', '0101', '0110', '0111', '1000']\n"
     ]
    }
   ],
   "source": [
    "def generate_control_strings(size: int) -> list[str]:\n",
    "    \"\"\"\n",
    "    size: list size\n",
    "    \"\"\"\n",
    "    c_strings = []\n",
    "    string_size = ceil(log2(size))\n",
    "    for i in range(size):\n",
    "        c_strings.append((bin(i)[2:]).rjust(string_size,\"0\"))\n",
    "    return c_strings\n",
    "\n",
    "print(generate_control_strings(9))"
   ]
  },
  {
   "cell_type": "code",
   "execution_count": null,
   "id": "eafbb139",
   "metadata": {},
   "outputs": [],
   "source": [
    "def xor_data_circuits(l: list[str], size: int) -> list[QuantumCircuit]:\n",
    "    \"\"\"\n",
    "    create a list of circuits wich cnots the data in list to qubits\n",
    "    \"\"\"\n",
    "    circuits = []\n",
    "    for bit_string in l:\n",
    "        qc = QuantumCircuit(size + 1)\n",
    "        for bit in range(len(bit_string)):\n",
    "            if bit_string[bit] == \"1\":\n",
    "                qc.cx(0, size-bit)\n",
    "        circuits.append(qc)\n",
    "    return circuits\n",
    "\n",
    "circs = xor_data_circuits(['0100', '0010', '0011', '0001', '0110', '0101', '1000', '0111'], 4)"
   ]
  },
  {
   "cell_type": "code",
   "execution_count": 45,
   "id": "525e5fda",
   "metadata": {},
   "outputs": [
    {
     "data": {
      "image/png": "[encoded data removed]",
      "text/plain": [
       "<Figure size 371.107x451.5 with 1 Axes>"
      ]
     },
     "execution_count": 45,
     "metadata": {},
     "output_type": "execute_result"
    }
   ],
   "source": [
    "circs[7].draw(\"mpl\")"
   ]
  },
  {
   "cell_type": "code",
   "execution_count": null,
   "id": "8adcf004",
   "metadata": {},
   "outputs": [
    {
     "data": {
      "image/png": "[encoded data removed]",
      "text/plain": [
       "<Figure size 172.291x869.556 with 1 Axes>"
      ]
     },
     "execution_count": 6,
     "metadata": {},
     "output_type": "execute_result"
    }
   ],
   "source": [
    "def compute_lookup_table(W: int, l: list[int], optimization: int = 0) -> QuantumCircuit:\n",
    "    \"\"\"\n",
    "    a = input; input size in bits is log2(len(l)), ex: if len(l) = 8, then input size is 3, log2(8)=3, 2^3 = 8\n",
    "    w = output size in bits\n",
    "    l = table to be computed\n",
    "    c = controll qubit\n",
    "    \"\"\"\n",
    "    index_size = int(log2(len(l)))\n",
    "    a = QuantumRegister(index_size, name=\"a\")\n",
    "    w = QuantumRegister(W, name=\"W\")\n",
    "    c = QuantumRegister(1, name=\"c\")\n",
    "    quantum_circuit = QuantumCircuit(a, c, w)\n",
    "\n",
    "    c_strings = generate_control_strings(index_size)\n",
    "    e_table = encode_table(l, W)\n",
    "\n",
    "\n",
    "    match optimization:\n",
    "        case 0:\n",
    "\n",
    "    \n",
    "    return quantum_circuit\n",
    "\n",
    "compute_lookup_table(6, [0,0,0,0,0,0,0,0]).draw(\"mpl\")"
   ]
  }
 ],
 "metadata": {
  "kernelspec": {
   "display_name": "cwq",
   "language": "python",
   "name": "python3"
  },
  "language_info": {
   "codemirror_mode": {
    "name": "ipython",
    "version": 3
   },
   "file_extension": ".py",
   "mimetype": "text/x-python",
   "name": "python",
   "nbconvert_exporter": "python",
   "pygments_lexer": "ipython3",
   "version": "3.13.2"
  }
 },
 "nbformat": 4,
 "nbformat_minor": 5
}
