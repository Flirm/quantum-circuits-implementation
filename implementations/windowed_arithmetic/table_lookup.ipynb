{
 "cells": [
  {
   "cell_type": "code",
   "execution_count": 77,
   "id": "c069a786",
   "metadata": {},
   "outputs": [],
   "source": [
    "from qiskit import *\n",
    "from math import log2, ceil\n",
    "from qiskit.circuit.library import XGate, UnitaryGate\n",
    "from qiskit.circuit import Gate"
   ]
  },
  {
   "cell_type": "code",
   "execution_count": 7,
   "id": "8630724c",
   "metadata": {},
   "outputs": [
    {
     "name": "stdout",
     "output_type": "stream",
     "text": [
      "['0100', '0010', '0011', '0001', '0110', '0101', '1000', '0111']\n"
     ]
    }
   ],
   "source": [
    "def encode_table(l: list[int], size: int) -> list[str]:\n",
    "    \"\"\"\n",
    "    l: list to be encoded\n",
    "    size: how many bits elements should have in it's encoding\n",
    "    \"\"\"\n",
    "    encoded_l = []\n",
    "    for num in l:\n",
    "        encoded_l.append((bin(num)[2:]).rjust(size,\"0\"))\n",
    "    return encoded_l\n",
    "\n",
    "l = [4,2,3,1,6,5,8,7]\n",
    "print(encode_table(l, 4))"
   ]
  },
  {
   "cell_type": "code",
   "execution_count": 17,
   "id": "16985cc0",
   "metadata": {},
   "outputs": [
    {
     "name": "stdout",
     "output_type": "stream",
     "text": [
      "['0000', '0001', '0010', '0011', '0100', '0101', '0110', '0111', '1000']\n"
     ]
    }
   ],
   "source": [
    "def generate_control_strings(size: int) -> list[str]:\n",
    "    \"\"\"\n",
    "    size: list size\n",
    "    \"\"\"\n",
    "    c_strings = []\n",
    "    string_size = ceil(log2(size))\n",
    "    for i in range(size):\n",
    "        c_strings.append((bin(i)[2:]).rjust(string_size,\"0\"))\n",
    "    return c_strings\n",
    "\n",
    "print(generate_control_strings(9))"
   ]
  },
  {
   "cell_type": "code",
   "execution_count": 88,
   "id": "eafbb139",
   "metadata": {},
   "outputs": [],
   "source": [
    "def xor_data_gates(l: list[str], size: int) -> list[Gate]:\n",
    "    \"\"\"\n",
    "    create a list of gates wich cnots the data in list to qubits\n",
    "    \"\"\"\n",
    "    circuits = []\n",
    "    for bit_string in l:\n",
    "        qc = QuantumCircuit(size)\n",
    "        qc.name = f\"L{l.index(bit_string)}\"\n",
    "        for bit in range(len(bit_string)):\n",
    "            if bit_string[bit] == \"1\":\n",
    "                qc.x(abs(bit-size)-1)\n",
    "        circuits.append(qc.to_gate())\n",
    "    return circuits\n",
    "\n",
    "circs = xor_data_gates(['0100', '0010', '0011', '0001', '0110', '0101', '1000', '0111'], 4)"
   ]
  },
  {
   "cell_type": "code",
   "execution_count": 89,
   "id": "3dca76fe",
   "metadata": {},
   "outputs": [
    {
     "data": {
      "image/png": "[encoded data removed]",
      "text/plain": [
       "<Figure size 203.885x535.111 with 1 Axes>"
      ]
     },
     "execution_count": 89,
     "metadata": {},
     "output_type": "execute_result"
    }
   ],
   "source": [
    "qc = QuantumCircuit(6)\n",
    "qc.append(circs[5].control(2), [0,5,2,3,4,1])\n",
    "qc.draw(\"mpl\")"
   ]
  },
  {
   "cell_type": "code",
   "execution_count": null,
   "id": "8adcf004",
   "metadata": {},
   "outputs": [
    {
     "data": {
      "image/png": "[encoded data removed]",
      "text/plain": [
       "<Figure size 172.291x869.556 with 1 Axes>"
      ]
     },
     "execution_count": 90,
     "metadata": {},
     "output_type": "execute_result"
    }
   ],
   "source": [
    "def compute_lookup_table(W: int, l: list[int], optimization: int = 0) -> QuantumCircuit:\n",
    "    \"\"\"\n",
    "    a = input; input size in bits is log2(len(l)), ex: if len(l) = 8, then input size is 3, log2(8)=3, 2^3 = 8\n",
    "    w = output size in bits\n",
    "    l = table to be computed\n",
    "    c = controll qubit\n",
    "    \"\"\"\n",
    "    index_size = int(log2(len(l)))\n",
    "    a = QuantumRegister(index_size, name=\"a\")\n",
    "    w = QuantumRegister(W, name=\"W\")\n",
    "    c = QuantumRegister(1, name=\"c\")\n",
    "    quantum_circuit = QuantumCircuit(a, c, w)\n",
    "\n",
    "    c_strings = generate_control_strings(index_size)\n",
    "    e_table = encode_table(l, W)\n",
    "    xor_circs = xor_data_gates(e_table, W)\n",
    "    \n",
    "    match optimization:\n",
    "        case 0:\n",
    "            do_nothing_rn = 0\n",
    "\n",
    "    \n",
    "    return quantum_circuit\n",
    "\n",
    "compute_lookup_table(6, [0,0,0,0,0,0,0,0]).draw(\"mpl\")"
   ]
  }
 ],
 "metadata": {
  "kernelspec": {
   "display_name": "cwq",
   "language": "python",
   "name": "python3"
  },
  "language_info": {
   "codemirror_mode": {
    "name": "ipython",
    "version": 3
   },
   "file_extension": ".py",
   "mimetype": "text/x-python",
   "name": "python",
   "nbconvert_exporter": "python",
   "pygments_lexer": "ipython3",
   "version": "3.13.2"
  }
 },
 "nbformat": 4,
 "nbformat_minor": 5
}
