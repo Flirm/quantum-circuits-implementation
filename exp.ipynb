{
 "cells": [
  {
   "cell_type": "code",
   "execution_count": 1,
   "id": "15df5fa6",
   "metadata": {},
   "outputs": [],
   "source": [
    "from qiskit import *\n",
    "from implementations.utils.helpers import *\n",
    "from implementations.VBE.multiplier_VBE import c_mult_mod_VBE"
   ]
  },
  {
   "cell_type": "code",
   "execution_count": null,
   "id": "16ebcc21",
   "metadata": {},
   "outputs": [],
   "source": [
    "def exp_mod_VBE(num_qubits: int, N: int) -> QuantumCircuit:\n",
    "    x = QuantumRegister(num_qubits)\n",
    "    oneReg = QuantumRegister(num_qubits)\n",
    "    zeroReg = QuantumRegister(num_qubits)\n",
    "    anc = AncillaRegister()\n",
    "    quantum_circuit = QuantumCircuit(x, oneReg, zeroReg, anc)\n",
    "    quantum_circuit.name = \"ExpMod-VBE\"\n",
    "    return quantum_circuit"
   ]
  }
 ],
 "metadata": {
  "kernelspec": {
   "display_name": "cwq",
   "language": "python",
   "name": "python3"
  },
  "language_info": {
   "codemirror_mode": {
    "name": "ipython",
    "version": 3
   },
   "file_extension": ".py",
   "mimetype": "text/x-python",
   "name": "python",
   "nbconvert_exporter": "python",
   "pygments_lexer": "ipython3",
   "version": "3.13.2"
  }
 },
 "nbformat": 4,
 "nbformat_minor": 5
}
